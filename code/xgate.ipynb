{
 "cells": [
  {
   "cell_type": "code",
   "execution_count": 14,
   "id": "6c3fc11c",
   "metadata": {},
   "outputs": [],
   "source": [
    "import qiskit"
   ]
  },
  {
   "cell_type": "code",
   "execution_count": 15,
   "id": "eb5c7976",
   "metadata": {},
   "outputs": [],
   "source": [
    "#Import necessary Qiskit modules"
   ]
  },
  {
   "cell_type": "code",
   "execution_count": 16,
   "id": "23e4da25",
   "metadata": {},
   "outputs": [],
   "source": [
    "from qiskit import QuantumCircuit, transpile\n",
    "from qiskit_aer import Aer\n",
    "from qiskit.visualization import plot_histogram\n",
    "import matplotlib.pyplot as plt\n",
    "from IPython.display import display  # for inline rendering in VS Code/Jupyter\n"
   ]
  },
  {
   "cell_type": "code",
   "execution_count": null,
   "id": "05ed53e4",
   "metadata": {},
   "outputs": [],
   "source": [
    "qc = QuantumCircuit(1, 1)\n",
    "display(qc.draw(output='mpl'))  # Draw the circuit with matplotlib rendering\n",
    "plt.show()"
   ]
  },
  {
   "cell_type": "code",
   "execution_count": null,
   "id": "2269da89",
   "metadata": {},
   "outputs": [],
   "source": [
    "#Apply X (Pauli-X) gate (flip the qubit state)\n",
    "qc.x(0)\n",
    "display(qc.draw(output='mpl'))  # Draw the circuit with matplotlib rendering\n",
    "plt.show()\n"
   ]
  },
  {
   "cell_type": "code",
   "execution_count": null,
   "id": "7bc95e54",
   "metadata": {},
   "outputs": [],
   "source": [
    "#Measure the qubit\n",
    "qc.measure(0, 0)\n",
    "display(qc.draw(output='mpl'))  # Draw the circuit with matplotlib rendering\n",
    "plt.show()\n"
   ]
  },
  {
   "cell_type": "code",
   "execution_count": 20,
   "id": "a94717dc",
   "metadata": {},
   "outputs": [],
   "source": [
    "#Simulate using Aer qasm_simulator (Qiskit 1.x compatible)\n",
    "backend = Aer.get_backend('qasm_simulator')\n",
    "transpiled_qc = transpile(qc, backend)\n",
    "job = backend.run(transpiled_qc, shots=1024)\n",
    "result = job.result()\n"
   ]
  },
  {
   "cell_type": "code",
   "execution_count": null,
   "id": "5b0f748e",
   "metadata": {},
   "outputs": [],
   "source": [
    "#Get and print measurement counts\n",
    "counts = result.get_counts()\n",
    "print(\"Measurement Counts:\", counts)\n",
    "\n",
    "#Show histogram \n",
    "fig = plot_histogram(counts, title=\"X Gate Measurement Results\", bar_labels=True)\n",
    "display(fig)  # Ensures it renders in VS Code Jupyter Notebook\n",
    "plt.show()\n",
    "\n"
   ]
  }
 ],
 "metadata": {
  "kernelspec": {
   "display_name": "qiskit-env",
   "language": "python",
   "name": "python3"
  },
  "language_info": {
   "codemirror_mode": {
    "name": "ipython",
    "version": 3
   },
   "file_extension": ".py",
   "mimetype": "text/x-python",
   "name": "python",
   "nbconvert_exporter": "python",
   "pygments_lexer": "ipython3",
   "version": "3.8.20"
  }
 },
 "nbformat": 4,
 "nbformat_minor": 5
}
