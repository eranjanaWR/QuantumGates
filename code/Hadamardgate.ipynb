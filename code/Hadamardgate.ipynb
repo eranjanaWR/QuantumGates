{
 "cells": [
  {
   "cell_type": "code",
   "execution_count": 32,
   "id": "eb7a711a",
   "metadata": {},
   "outputs": [],
   "source": [
    "import qiskit"
   ]
  },
  {
   "cell_type": "code",
   "execution_count": 33,
   "id": "e80d18e7",
   "metadata": {},
   "outputs": [],
   "source": [
    "#Import necessary Qiskit modules\n",
    "from qiskit import QuantumCircuit, transpile\n",
    "from qiskit_aer import Aer\n",
    "from qiskit.visualization import plot_histogram\n",
    "import matplotlib.pyplot as plt\n",
    "from IPython.display import display  # for inline rendering in VS Code/Jupyter\n"
   ]
  },
  {
   "cell_type": "code",
   "execution_count": null,
   "id": "30618ae1",
   "metadata": {},
   "outputs": [],
   "source": [
    "#Create the quantum circuit with 1 qubit and 1 classical bit\n",
    "qc = QuantumCircuit(1, 1)\n",
    "\n",
    "display(qc.draw(output='mpl'))  # Draw the circuit with matplotlib rendering\n",
    "plt.show()\n",
    "\n",
    "\n",
    "\n"
   ]
  },
  {
   "cell_type": "code",
   "execution_count": null,
   "id": "29ae32da",
   "metadata": {},
   "outputs": [],
   "source": [
    "#Apply the Hadamard gate\n",
    "qc.h(0)\n",
    "\n",
    "#Measure the qubit\n",
    "qc.measure(0, 0)\n",
    "\n",
    "display(qc.draw(output='mpl'))  # Draw the circuit with matplotlib rendering\n",
    "plt.show()\n"
   ]
  },
  {
   "cell_type": "code",
   "execution_count": 36,
   "id": "3c1af64c",
   "metadata": {},
   "outputs": [],
   "source": [
    "#Simulate using the Aer qasm_simulator\n",
    "backend = Aer.get_backend('qasm_simulator')\n",
    "transpiled_qc = transpile(qc, backend)\n",
    "job = backend.run(transpiled_qc, shots=1024)\n",
    "result = job.result()\n"
   ]
  },
  {
   "cell_type": "code",
   "execution_count": null,
   "id": "47f45064",
   "metadata": {},
   "outputs": [],
   "source": [
    "#Get and print the measurement counts\n",
    "counts = result.get_counts()\n",
    "print(\"Measurement Counts:\", counts)\n",
    "\n",
    "#Show histogram \n",
    "fig = plot_histogram(counts, title=\"Hadamard Gate Measurement Results\", bar_labels=True)\n",
    "display(fig)  # Ensures it renders in VS Code Jupyter Notebook\n",
    "plt.show()\n"
   ]
  }
 ],
 "metadata": {
  "kernelspec": {
   "display_name": "qiskit-env",
   "language": "python",
   "name": "python3"
  },
  "language_info": {
   "codemirror_mode": {
    "name": "ipython",
    "version": 3
   },
   "file_extension": ".py",
   "mimetype": "text/x-python",
   "name": "python",
   "nbconvert_exporter": "python",
   "pygments_lexer": "ipython3",
   "version": "3.8.20"
  }
 },
 "nbformat": 4,
 "nbformat_minor": 5
}
