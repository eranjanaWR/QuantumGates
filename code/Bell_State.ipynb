{
 "cells": [
  {
   "cell_type": "code",
   "execution_count": 22,
   "id": "b68b49b0",
   "metadata": {},
   "outputs": [],
   "source": [
    "import qiskit"
   ]
  },
  {
   "cell_type": "code",
   "execution_count": 23,
   "id": "d8229e78",
   "metadata": {},
   "outputs": [],
   "source": [
    "#Import necessary Qiskit modules\n",
    "from qiskit import QuantumCircuit, transpile\n",
    "from qiskit_aer import Aer\n",
    "from qiskit.visualization import plot_histogram\n",
    "import matplotlib.pyplot as plt\n",
    "from IPython.display import display  \n"
   ]
  },
  {
   "cell_type": "code",
   "execution_count": null,
   "id": "ac53a5df",
   "metadata": {},
   "outputs": [],
   "source": [
    "#Create the quantum circuit with 2 qubits and 2 classical bits\n",
    "\n",
    "qc = QuantumCircuit(2, 2)\n",
    "\n",
    "display(qc.draw(output='mpl'))  # Draw the circuit with matplotlib rendering\n",
    "plt.show()\n",
    "\n"
   ]
  },
  {
   "cell_type": "code",
   "execution_count": null,
   "id": "377a44fa",
   "metadata": {},
   "outputs": [],
   "source": [
    "#Apply Hadamard gate to the first qubit\n",
    "\n",
    "qc.h(0)\n",
    "\n",
    "display(qc.draw(output='mpl'))  # Draw the circuit with matplotlib rendering\n",
    "plt.show()"
   ]
  },
  {
   "cell_type": "code",
   "execution_count": null,
   "id": "af03e1ad",
   "metadata": {},
   "outputs": [],
   "source": [
    "#Apply CNOT gate (Controlled-NOT) with the first qubit as control and second qubit as target\n",
    "\n",
    "qc.cx(0, 1)\n",
    "\n",
    "display(qc.draw(output='mpl'))  # Draw the circuit with matplotlib rendering\n",
    "plt.show()"
   ]
  },
  {
   "cell_type": "code",
   "execution_count": null,
   "id": "b5aaf948",
   "metadata": {},
   "outputs": [],
   "source": [
    "# Measure both qubits and store the result in classical bits\n",
    "qc.measure([0, 1], [0, 1])\n",
    "\n",
    "display(qc.draw(output='mpl'))  # Draw the circuit with matplotlib rendering\n",
    "plt.show()"
   ]
  },
  {
   "cell_type": "code",
   "execution_count": null,
   "id": "97840c8f",
   "metadata": {},
   "outputs": [],
   "source": [
    "# Simulate using Aer qasm_simulator (Qiskit 1.x compatible)\n",
    "backend = Aer.get_backend('qasm_simulator')\n",
    "transpiled_qc = transpile(qc, backend)\n",
    "job = backend.run(transpiled_qc, shots=1024)\n",
    "result = job.result()\n",
    "\n",
    "# Get and print measurement counts\n",
    "counts = result.get_counts()\n",
    "print(\"Measurement Counts:\", counts)\n",
    "\n",
    "# ✅ Show histogram (inline)\n",
    "fig = plot_histogram(counts, title=\"Bell State Measurement Results\", bar_labels=True)\n",
    "display(fig)  # 👈 Ensures it renders in VS Code Jupyter Notebook\n",
    "plt.show()\n",
    "\n",
    "\n",
    "\n",
    "\n",
    "\n"
   ]
  }
 ],
 "metadata": {
  "kernelspec": {
   "display_name": "qiskit-env",
   "language": "python",
   "name": "python3"
  },
  "language_info": {
   "codemirror_mode": {
    "name": "ipython",
    "version": 3
   },
   "file_extension": ".py",
   "mimetype": "text/x-python",
   "name": "python",
   "nbconvert_exporter": "python",
   "pygments_lexer": "ipython3",
   "version": "3.8.20"
  }
 },
 "nbformat": 4,
 "nbformat_minor": 5
}
